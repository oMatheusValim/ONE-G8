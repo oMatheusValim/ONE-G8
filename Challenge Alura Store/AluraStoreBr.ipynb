{
  "cells": [
    {
      "cell_type": "markdown",
      "metadata": {
        "id": "RhEdWd9YUR6H"
      },
      "source": [
        "### Importação dos dados\n",
        "\n"
      ]
    },
    {
      "cell_type": "code",
      "execution_count": null,
      "metadata": {
        "colab": {
          "base_uri": "https://localhost:8080/",
          "height": 206
        },
        "id": "T3EvaeQ_INIL",
        "outputId": "7194bc65-372c-47e6-cb47-d4bfc9952c91"
      },
      "outputs": [],
      "source": [
        "import pandas as pd\n",
        "import matplotlib.pyplot as plt\n",
        "import seaborn as sns\n",
        "\n",
        "url = \"https://raw.githubusercontent.com/alura-es-cursos/challenge1-data-science/refs/heads/main/base-de-dados-challenge-1/loja_1.csv\"\n",
        "url2 = \"https://raw.githubusercontent.com/alura-es-cursos/challenge1-data-science/refs/heads/main/base-de-dados-challenge-1/loja_2.csv\"\n",
        "url3 = \"https://raw.githubusercontent.com/alura-es-cursos/challenge1-data-science/refs/heads/main/base-de-dados-challenge-1/loja_3.csv\"\n",
        "url4 = \"https://raw.githubusercontent.com/alura-es-cursos/challenge1-data-science/refs/heads/main/base-de-dados-challenge-1/loja_4.csv\"\n",
        "\n",
        "loja1 = pd.read_csv(url)\n",
        "loja2 = pd.read_csv(url2)\n",
        "loja3 = pd.read_csv(url3)\n",
        "loja4 = pd.read_csv(url4)\n",
        "\n",
        "loja1['Loja'] = 'Loja 1'\n",
        "loja2['Loja'] = 'Loja 2'\n",
        "loja3['Loja'] = 'Loja 3'\n",
        "loja4['Loja'] = 'Loja 4'\n",
        "\n",
        "df_total = pd.concat([loja1, loja2, loja3, loja4], ignore_index=True)\n",
        "\n",
        "loja4.head()"
      ]
    },
    {
      "cell_type": "markdown",
      "metadata": {
        "id": "X62IW3KFUIYm"
      },
      "source": [
        "#1. Análise do faturamento\n"
      ]
    },
    {
      "cell_type": "code",
      "execution_count": null,
      "metadata": {
        "id": "xykobSftV64I"
      },
      "outputs": [],
      "source": [
        "# Somando os valores da coluna Preço de cada loja para estimar o faturamento\n",
        "faturamento_por_loja = df_total.groupby('Loja')['Preço'].sum().reset_index()\n",
        "print(\"--- 1. Faturamento Total por Loja ---\")\n",
        "print(faturamento_por_loja)"
      ]
    },
    {
      "cell_type": "code",
      "execution_count": null,
      "metadata": {
        "id": "KDyr8E71V3m-"
      },
      "outputs": [],
      "source": [
        "# gráfico de linhas do faturamento\n",
        "plt.figure(figsize=(10, 6))\n",
        "sns.lineplot(data=faturamento_por_loja, x='Loja', y='Preço', marker='o', sort=False)\n",
        "plt.title('Faturamento por Loja')\n",
        "plt.xlabel('Loja')\n",
        "plt.ylabel('Faturamento Total (R$)')\n",
        "plt.grid(True)\n",
        "plt.show()"
      ]
    },
    {
      "cell_type": "markdown",
      "metadata": {
        "id": "2V_vcAPzWZmR"
      },
      "source": [
        "# 2. Vendas por Categoria\n"
      ]
    },
    {
      "cell_type": "code",
      "execution_count": null,
      "metadata": {
        "id": "A34YupIuYhfF"
      },
      "outputs": [],
      "source": [
        "# deve calcular a quantidade de produtos vendidos por categoria em cada loja. A ideia é agrupar os dados por categoria e contar o número de vendas de cada tipo, mostrando as categoria mais populares de cada loja\n",
        "vendas_por_categoria = df_total.groupby(['Loja', 'Categoria do Produto'])['Produto'].count().unstack(fill_value=0)\n",
        "print(\"\\n--- 2. Vendas por Categoria ---\")\n",
        "print(vendas_por_categoria)"
      ]
    },
    {
      "cell_type": "markdown",
      "metadata": {
        "id": "Rq6tU_xSY3jk"
      },
      "source": [
        "# 3. Média de Avaliação das Lojas"
      ]
    },
    {
      "cell_type": "code",
      "execution_count": null,
      "metadata": {
        "id": "bh3jjjJwY5MU"
      },
      "outputs": [],
      "source": [
        "# calcular a média das avaliações dos clientes para cada loja. O objetivo é entender a satisfação dos clientes com os produtos vendidos.\n",
        "avaliacao_media_por_loja = df_total.groupby('Loja')['Avaliação da compra'].mean().reset_index()\n",
        "print(\"\\n--- 3. Média de Avaliação por Loja ---\")\n",
        "print(avaliacao_media_por_loja)"
      ]
    },
    {
      "cell_type": "code",
      "execution_count": null,
      "metadata": {
        "id": "I0KkjPoTY88F"
      },
      "outputs": [],
      "source": [
        "# gráfico de pizza avaliação das lojas\n",
        "plt.figure(figsize=(8, 8))\n",
        "plt.pie(avaliacao_media_por_loja['Avaliação da compra'], labels=avaliacao_media_por_loja['Loja'], autopct='%1.1f%%', startangle=140)\n",
        "plt.title('Proporção da Avaliação Média por Loja')\n",
        "plt.ylabel('') # Remove o label do eixo y\n",
        "plt.show()"
      ]
    },
    {
      "cell_type": "markdown",
      "metadata": {
        "id": "DmNp1KPBZCm-"
      },
      "source": [
        "# 4. Produtos Mais e Menos Vendidos"
      ]
    },
    {
      "cell_type": "code",
      "execution_count": null,
      "metadata": {
        "id": "qoyjqijQZHfF"
      },
      "outputs": [],
      "source": [
        "# deve identificar quais produtos foram os mais vendidos e os menos vendidos em cada loja.  Ao final, visualize os resultados de forma que fique claro quais produtos se destacaram nas vendas de cada loja.\n",
        "print(\"\\n--- 4. Produtos Mais e Menos Vendidos ---\")\n",
        "for loja_nome in df_total['Loja'].unique():\n",
        "    print(f\"\\n--- {loja_nome} ---\")\n",
        "    df_loja = df_total[df_total['Loja'] == loja_nome]\n",
        "    contagem_produtos = df_loja['Produto'].value_counts()\n",
        "    mais_vendidos = contagem_produtos.head(3)\n",
        "    menos_vendidos = contagem_produtos.tail(3)\n",
        "    print(\"Top 3 Mais Vendidos:\")\n",
        "    print(mais_vendidos)\n",
        "    print(\"\\nTop 3 Menos Vendidos:\")\n",
        "    print(menos_vendidos)"
      ]
    },
    {
      "cell_type": "code",
      "execution_count": null,
      "metadata": {
        "id": "0Sw3sd4IZIGW"
      },
      "outputs": [],
      "source": [
        "# gráfico de colunas de produtos mais e menos vendidos\n",
        "plt.figure(figsize=(12, 6))\n",
        "df_total[df_total['Loja'] == 'Loja 2']['Produto'].value_counts().head(10).plot(kind='bar')\n",
        "plt.title('Top 10 Produtos Mais Vendidos - Loja 2')\n",
        "plt.xlabel('Produto')\n",
        "plt.ylabel('Quantidade Vendida')\n",
        "plt.xticks(rotation=45, ha='right')\n",
        "plt.show()"
      ]
    },
    {
      "cell_type": "markdown",
      "metadata": {
        "id": "Fl0cGi3bZKqU"
      },
      "source": [
        "# 5. Frete Médio por Loja\n"
      ]
    },
    {
      "cell_type": "code",
      "execution_count": null,
      "metadata": {
        "id": "S2JeaCykZNy9"
      },
      "outputs": [],
      "source": [
        "# calcular o custo médio de frete para cada loja. O objetivo é entender quanto, em média, está sendo gasto com frete para cada uma das lojas.\n",
        "frete_medio_por_loja = df_total.groupby('Loja')['Frete'].mean().reset_index()\n",
        "print(\"\\n--- 5. Frete Médio por Loja ---\")\n",
        "print(frete_medio_por_loja)\n"
      ]
    },
    {
      "cell_type": "markdown",
      "metadata": {},
      "source": [
        "# 6. Relatório"
      ]
    },
    {
      "cell_type": "markdown",
      "metadata": {},
      "source": [
        "1. Introdução\n",
        "\n",
        "    O objetivo é identificar a loja com a menor eficiência para que João possa tomar uma decisão informada sobre qual unidade vender para investir em seu novo projeto. A análise a seguir é baseada nos dados precisos de faturamento, vendas, avaliação e frete.\n",
        "\n",
        "2. Desenvolvimento e Análise dos Novos Dados\n",
        "\n",
        "    * Faturamento Total:\n",
        "\n",
        "        Todas as lojas apresentam um faturamento robusto e superior a R$ 1,3 milhão. A Loja 1 lidera com R$ .534.509,12, enquanto a Loja 4 possui o menor faturamento, com R 1.384.497,58. Embora seja a última colocada, a diferença para as demais não é tão drástica.\n",
        "\n",
        "    * Volume de Vendas por Categoria:\n",
        "\n",
        "        O volume de vendas é bastante similar entre as lojas, todas as unidades têm uma variedade de produtos, com a Loja 4 apresentando um volume ligeiramente menor em categorias como \"eletrodomésticos\" e \"instrumentos musicais\".\n",
        "\n",
        "    * Média de Avaliação e Custo do Frete (Indicadores de Eficiência):\n",
        "        * * Avaliação: A Loja 1 possui a pior média de avaliação dos clientes (3.97), ainda que a diferença seja pequena para as demais. Isso pode indicar pequenos atritos na experiência de compra.\n",
        "        * * Frete: A Loja 1 também apresenta o custo médio de frete mais alto da rede (R$ 34,69). Um frete elevado é um conhecido fator de desistência de compra e pode impactar a lucratividade e a satisfação do cliente a longo prazo.\n",
        "\n",
        "        Em contrapartida, a Loja 4, apesar do menor faturamento, possui o frete mais competitivo (R$ 31,27) e uma avaliação ligeiramente superior à da Loja 1.\n",
        "\n",
        "3. Conclusão e Recomendação Estratégica\n",
        "\n",
        "    Com base nos novos dados, a escolha não é mais sobre qual loja tem o pior resultado, mas sim qual é a menos eficiente e representa o maior risco operacional futuro.\n",
        "\n",
        "    A Loja 4 fatura menos, mas opera de forma mais eficiente, com o menor custo de frete e uma avaliação de clientes razoável. Seu menor faturamento pode ser uma questão de mercado local ou mix de produtos, algo que pode ser otimizado.\n",
        "\n",
        "    A Loja 1, por outro lado, apesar de ser a campeã de faturamento no momento, apresenta sinais de ineficiência operacional:\n",
        "\n",
        "    * O frete mais caro da rede, o que pode estar corroendo as margens ou afastando clientes.\n",
        "\n",
        "    * A pior avaliação dos clientes, um sinal de alerta para a qualidade do serviço.\n",
        "\n",
        "    Uma loja que fatura alto, mas à custa de fretes caros e da satisfação do cliente, tem um modelo de negócio menos sustentável. O alto faturamento pode estar mascarando problemas operacionais que, se não corrigidos, podem levar a um declínio futuro.\n",
        "\n",
        "    Portanto, a minha recomendação estratégica é a venda da Loja 1.\n",
        "\n",
        "Justificativa: Vender a Loja 1, embora contraintuitivo por ser a de maior receita, significa se desfazer da operação com os maiores custos logísticos e os maiores sinais de insatisfação do cliente. Isso elimina um risco futuro e permite que o senhor se concentre em otimizar as lojas mais eficientes (como a 3 e a 4). Adicionalmente, o alto faturamento atual da Loja 1 pode até mesmo render um valor de venda mais atrativo no mercado.\n",
        "\n",
        "Esta decisão prioriza a saúde e a eficiência da rede a longo prazo em detrimento do faturamento bruto imediato.\n"
      ]
    }
  ],
  "metadata": {
    "colab": {
      "provenance": []
    },
    "kernelspec": {
      "display_name": "Python 3",
      "name": "python3"
    },
    "language_info": {
      "name": "python",
      "version": "3.11.2"
    }
  },
  "nbformat": 4,
  "nbformat_minor": 0
}
